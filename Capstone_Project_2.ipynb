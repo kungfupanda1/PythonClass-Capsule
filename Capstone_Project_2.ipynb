{
  "nbformat": 4,
  "nbformat_minor": 0,
  "metadata": {
    "colab": {
      "name": "Capstone Project #2",
      "provenance": [],
      "collapsed_sections": [],
      "authorship_tag": "ABX9TyOTwr16tfmj35FbGEa35kMA",
      "include_colab_link": true
    },
    "kernelspec": {
      "name": "python3",
      "display_name": "Python 3"
    },
    "language_info": {
      "name": "python"
    }
  },
  "cells": [
    {
      "cell_type": "markdown",
      "metadata": {
        "id": "view-in-github",
        "colab_type": "text"
      },
      "source": [
        "<a href=\"https://colab.research.google.com/github/kungfupanda1/PythonClass-Capsule/blob/main/Capstone_Project_2.ipynb\" target=\"_parent\"><img src=\"https://colab.research.google.com/assets/colab-badge.svg\" alt=\"Open In Colab\"/></a>"
      ]
    },
    {
      "cell_type": "code",
      "metadata": {
        "id": "Xx-KMhgjFEbc"
      },
      "source": [
        "!pip install pandas\n",
        "!pip install matplotlib\n",
        "\n",
        "import pandas as pd\n",
        "import matplotlib as plt\n",
        "import numpy as np\n",
        "import seaborn as sns\n",
        "import pandas.plotting as plotting"
      ],
      "execution_count": null,
      "outputs": []
    },
    {
      "cell_type": "code",
      "metadata": {
        "colab": {
          "resources": {
            "http://localhost:8080/nbextensions/google.colab/files.js": {
              "data": "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",
              "ok": true,
              "headers": [
                [
                  "content-type",
                  "application/javascript"
                ]
              ],
              "status": 200,
              "status_text": "OK"
            }
          },
          "base_uri": "https://localhost:8080/",
          "height": 89
        },
        "id": "uWfSXJldxo_O",
        "outputId": "746c0136-d4d0-4478-9114-c6b3c1c37527"
      },
      "source": [
        "from google.colab import files\n",
        "\n",
        "uploaded = files.upload()\n",
        "\n",
        "for fn in uploaded.keys():\n",
        "  print('User uploaded file \"{name}\" with length {length} bytes'.format(\n",
        "      name=fn, length=len(uploaded[fn])))"
      ],
      "execution_count": null,
      "outputs": [
        {
          "output_type": "display_data",
          "data": {
            "text/html": [
              "\n",
              "     <input type=\"file\" id=\"files-f3aa60fb-0fc1-4662-8aac-c861db6a0284\" name=\"files[]\" multiple disabled\n",
              "        style=\"border:none\" />\n",
              "     <output id=\"result-f3aa60fb-0fc1-4662-8aac-c861db6a0284\">\n",
              "      Upload widget is only available when the cell has been executed in the\n",
              "      current browser session. Please rerun this cell to enable.\n",
              "      </output>\n",
              "      <script src=\"/nbextensions/google.colab/files.js\"></script> "
            ],
            "text/plain": [
              "<IPython.core.display.HTML object>"
            ]
          },
          "metadata": {
            "tags": []
          }
        },
        {
          "output_type": "stream",
          "text": [
            "Saving Open_Parking_and_Camera_Violations (1).csv to Open_Parking_and_Camera_Violations (1).csv\n",
            "User uploaded file \"Open_Parking_and_Camera_Violations (1).csv\" with length 294119304 bytes\n"
          ],
          "name": "stdout"
        }
      ]
    },
    {
      "cell_type": "markdown",
      "metadata": {
        "id": "YtlQ-z5JyQLW"
      },
      "source": [
        "###Data for 2020, with a violation determination for all vehicle type. I originally wanted to see across multiple years for comparison, but data file got too large, so I had to cut data in certain ways."
      ]
    },
    {
      "cell_type": "code",
      "metadata": {
        "colab": {
          "base_uri": "https://localhost:8080/"
        },
        "id": "1Zm_L75DzqF5",
        "outputId": "174c7411-78ab-4078-9db3-27d27bf877cc"
      },
      "source": [
        "import io\n",
        "df = pd.read_csv(io.BytesIO(uploaded['Open_Parking_and_Camera_Violations (1).csv']))\n",
        "# Dataset is now stored in a Pandas Dataframe"
      ],
      "execution_count": null,
      "outputs": [
        {
          "output_type": "stream",
          "text": [
            "/usr/local/lib/python3.7/dist-packages/IPython/core/interactiveshell.py:2718: DtypeWarning: Columns (7) have mixed types.Specify dtype option on import or set low_memory=False.\n",
            "  interactivity=interactivity, compiler=compiler, result=result)\n"
          ],
          "name": "stderr"
        }
      ]
    },
    {
      "cell_type": "code",
      "metadata": {
        "colab": {
          "base_uri": "https://localhost:8080/",
          "height": 606
        },
        "id": "WhNHZVYT324W",
        "outputId": "a14a1b35-86d7-4a80-fbf5-a443c97d59eb"
      },
      "source": [
        "df2 = df.filter(['Plate','License Type','Summons Number','Issue Date','Violation Time','Violation','Fine Amount','Payment Amount','Precinct','County',\"Violation Status\"])\n",
        "display(df2)"
      ],
      "execution_count": null,
      "outputs": [
        {
          "output_type": "display_data",
          "data": {
            "text/html": [
              "<div>\n",
              "<style scoped>\n",
              "    .dataframe tbody tr th:only-of-type {\n",
              "        vertical-align: middle;\n",
              "    }\n",
              "\n",
              "    .dataframe tbody tr th {\n",
              "        vertical-align: top;\n",
              "    }\n",
              "\n",
              "    .dataframe thead th {\n",
              "        text-align: right;\n",
              "    }\n",
              "</style>\n",
              "<table border=\"1\" class=\"dataframe\">\n",
              "  <thead>\n",
              "    <tr style=\"text-align: right;\">\n",
              "      <th></th>\n",
              "      <th>Plate</th>\n",
              "      <th>License Type</th>\n",
              "      <th>Summons Number</th>\n",
              "      <th>Issue Date</th>\n",
              "      <th>Violation Time</th>\n",
              "      <th>Violation</th>\n",
              "      <th>Fine Amount</th>\n",
              "      <th>Payment Amount</th>\n",
              "      <th>Precinct</th>\n",
              "      <th>County</th>\n",
              "      <th>Violation Status</th>\n",
              "    </tr>\n",
              "  </thead>\n",
              "  <tbody>\n",
              "    <tr>\n",
              "      <th>0</th>\n",
              "      <td>JHV7360</td>\n",
              "      <td>PAS</td>\n",
              "      <td>1455043813</td>\n",
              "      <td>05/19/2020</td>\n",
              "      <td>07:30A</td>\n",
              "      <td>NO STANDING-DAY/TIME LIMITS</td>\n",
              "      <td>115.0</td>\n",
              "      <td>0.0</td>\n",
              "      <td>0</td>\n",
              "      <td>NY</td>\n",
              "      <td>HEARING HELD-NOT GUILTY</td>\n",
              "    </tr>\n",
              "    <tr>\n",
              "      <th>1</th>\n",
              "      <td>28938MM</td>\n",
              "      <td>COM</td>\n",
              "      <td>1447397976</td>\n",
              "      <td>09/21/2020</td>\n",
              "      <td>09:20A</td>\n",
              "      <td>BIKE LANE</td>\n",
              "      <td>115.0</td>\n",
              "      <td>115.0</td>\n",
              "      <td>6</td>\n",
              "      <td>NY</td>\n",
              "      <td>HEARING HELD-GUILTY</td>\n",
              "    </tr>\n",
              "    <tr>\n",
              "      <th>2</th>\n",
              "      <td>JRD6488</td>\n",
              "      <td>PAS</td>\n",
              "      <td>1449593800</td>\n",
              "      <td>10/17/2020</td>\n",
              "      <td>10:26P</td>\n",
              "      <td>OBSTRUCTING DRIVEWAY</td>\n",
              "      <td>95.0</td>\n",
              "      <td>0.0</td>\n",
              "      <td>81</td>\n",
              "      <td>K</td>\n",
              "      <td>HEARING HELD-NOT GUILTY</td>\n",
              "    </tr>\n",
              "    <tr>\n",
              "      <th>3</th>\n",
              "      <td>JDN5335</td>\n",
              "      <td>PAS</td>\n",
              "      <td>1309083423</td>\n",
              "      <td>07/16/2020</td>\n",
              "      <td>07:40A</td>\n",
              "      <td>NO STANDING-DAY/TIME LIMITS</td>\n",
              "      <td>115.0</td>\n",
              "      <td>115.0</td>\n",
              "      <td>73</td>\n",
              "      <td>NaN</td>\n",
              "      <td>HEARING HELD-GUILTY</td>\n",
              "    </tr>\n",
              "    <tr>\n",
              "      <th>4</th>\n",
              "      <td>15709MJ</td>\n",
              "      <td>COM</td>\n",
              "      <td>1453315287</td>\n",
              "      <td>11/03/2020</td>\n",
              "      <td>11:36A</td>\n",
              "      <td>NON-COMPLIANCE W/ POSTED SIGN</td>\n",
              "      <td>60.0</td>\n",
              "      <td>0.0</td>\n",
              "      <td>84</td>\n",
              "      <td>K</td>\n",
              "      <td>HEARING HELD-NOT GUILTY</td>\n",
              "    </tr>\n",
              "    <tr>\n",
              "      <th>...</th>\n",
              "      <td>...</td>\n",
              "      <td>...</td>\n",
              "      <td>...</td>\n",
              "      <td>...</td>\n",
              "      <td>...</td>\n",
              "      <td>...</td>\n",
              "      <td>...</td>\n",
              "      <td>...</td>\n",
              "      <td>...</td>\n",
              "      <td>...</td>\n",
              "      <td>...</td>\n",
              "    </tr>\n",
              "    <tr>\n",
              "      <th>1054993</th>\n",
              "      <td>T786106C</td>\n",
              "      <td>OMT</td>\n",
              "      <td>8882504335</td>\n",
              "      <td>12/24/2020</td>\n",
              "      <td>02:13P</td>\n",
              "      <td>REG. STICKER-EXPIRED/MISSING</td>\n",
              "      <td>65.0</td>\n",
              "      <td>0.0</td>\n",
              "      <td>66</td>\n",
              "      <td>K</td>\n",
              "      <td>HEARING HELD-GUILTY</td>\n",
              "    </tr>\n",
              "    <tr>\n",
              "      <th>1054994</th>\n",
              "      <td>EH671K</td>\n",
              "      <td>PAS</td>\n",
              "      <td>8883113044</td>\n",
              "      <td>12/24/2020</td>\n",
              "      <td>10:22A</td>\n",
              "      <td>INSP. STICKER-EXPIRED/MISSING</td>\n",
              "      <td>65.0</td>\n",
              "      <td>0.0</td>\n",
              "      <td>76</td>\n",
              "      <td>K</td>\n",
              "      <td>HEARING HELD-GUILTY</td>\n",
              "    </tr>\n",
              "    <tr>\n",
              "      <th>1054995</th>\n",
              "      <td>JFH3672</td>\n",
              "      <td>PAS</td>\n",
              "      <td>8884402438</td>\n",
              "      <td>12/09/2020</td>\n",
              "      <td>11:41A</td>\n",
              "      <td>SIDEWALK</td>\n",
              "      <td>115.0</td>\n",
              "      <td>0.0</td>\n",
              "      <td>115</td>\n",
              "      <td>Q</td>\n",
              "      <td>HEARING HELD-GUILTY</td>\n",
              "    </tr>\n",
              "    <tr>\n",
              "      <th>1054996</th>\n",
              "      <td>JDK6383</td>\n",
              "      <td>PAS</td>\n",
              "      <td>8885654563</td>\n",
              "      <td>12/30/2020</td>\n",
              "      <td>08:54A</td>\n",
              "      <td>REG. STICKER-EXPIRED/MISSING</td>\n",
              "      <td>65.0</td>\n",
              "      <td>0.0</td>\n",
              "      <td>42</td>\n",
              "      <td>BX</td>\n",
              "      <td>HEARING HELD-GUILTY</td>\n",
              "    </tr>\n",
              "    <tr>\n",
              "      <th>1054997</th>\n",
              "      <td>76659JZ</td>\n",
              "      <td>COM</td>\n",
              "      <td>8894850766</td>\n",
              "      <td>12/24/2020</td>\n",
              "      <td>01:36P</td>\n",
              "      <td>NO PARKING-DAY/TIME LIMITS</td>\n",
              "      <td>65.0</td>\n",
              "      <td>0.0</td>\n",
              "      <td>6</td>\n",
              "      <td>NY</td>\n",
              "      <td>HEARING HELD-GUILTY</td>\n",
              "    </tr>\n",
              "  </tbody>\n",
              "</table>\n",
              "<p>1054998 rows × 11 columns</p>\n",
              "</div>"
            ],
            "text/plain": [
              "            Plate License Type  ...  County         Violation Status\n",
              "0         JHV7360          PAS  ...      NY  HEARING HELD-NOT GUILTY\n",
              "1         28938MM          COM  ...      NY      HEARING HELD-GUILTY\n",
              "2         JRD6488          PAS  ...       K  HEARING HELD-NOT GUILTY\n",
              "3         JDN5335          PAS  ...     NaN      HEARING HELD-GUILTY\n",
              "4         15709MJ          COM  ...       K  HEARING HELD-NOT GUILTY\n",
              "...           ...          ...  ...     ...                      ...\n",
              "1054993  T786106C          OMT  ...       K      HEARING HELD-GUILTY\n",
              "1054994    EH671K          PAS  ...       K      HEARING HELD-GUILTY\n",
              "1054995   JFH3672          PAS  ...       Q      HEARING HELD-GUILTY\n",
              "1054996   JDK6383          PAS  ...      BX      HEARING HELD-GUILTY\n",
              "1054997   76659JZ          COM  ...      NY      HEARING HELD-GUILTY\n",
              "\n",
              "[1054998 rows x 11 columns]"
            ]
          },
          "metadata": {
            "tags": []
          }
        }
      ]
    },
    {
      "cell_type": "code",
      "metadata": {
        "id": "hhDYoFg_4NFY"
      },
      "source": [
        "df2['Violation Time'] = pd.to_datetime(df2['Violation Time'])\n",
        "df2['Issue Date'] = pd.to_datetime(df2['Issue Date'], errors='coerce')"
      ],
      "execution_count": null,
      "outputs": []
    },
    {
      "cell_type": "markdown",
      "metadata": {
        "id": "tIWTdODmkdZ0"
      },
      "source": [
        "##Ran this function to convert \"Issue Date\" and \"Violation Time\" to a date time variable, so I can extract the month and hour of when the violation was issued. However, there was some data that has month's and time's outside a valid range. "
      ]
    },
    {
      "cell_type": "code",
      "metadata": {
        "id": "3Fut7o3C4d9A"
      },
      "source": [
        "#display(df2.loc[df2['Issue Date'] == \"NaN\"])\n",
        "df2 = df2.drop(labels=405576, axis=0)\n",
        "df2 = df2.drop(labels=4766, axis=0)\n",
        "df2 = df2.drop(labels=495373, axis=0)\n",
        "df2 = df2.drop(labels=791840, axis=0)"
      ],
      "execution_count": null,
      "outputs": []
    },
    {
      "cell_type": "markdown",
      "metadata": {
        "id": "OdoaMsIvnqyl"
      },
      "source": [
        "##Looked at the data and decided to drop dataset to be more accurate. Did one by one lookup because I was intrigue on why the data had these odd date time."
      ]
    },
    {
      "cell_type": "code",
      "metadata": {
        "colab": {
          "base_uri": "https://localhost:8080/"
        },
        "id": "mcy7AXok4GCA",
        "outputId": "bbb23a49-f3dd-478b-d4e7-a6510bffe791"
      },
      "source": [
        "df2.dtypes"
      ],
      "execution_count": null,
      "outputs": [
        {
          "output_type": "execute_result",
          "data": {
            "text/plain": [
              "Plate                       object\n",
              "License Type                object\n",
              "Summons Number               int64\n",
              "Issue Date          datetime64[ns]\n",
              "Violation Time      datetime64[ns]\n",
              "Violation                   object\n",
              "Fine Amount                float64\n",
              "Payment Amount             float64\n",
              "Precinct                     int64\n",
              "County                      object\n",
              "Violation Status            object\n",
              "Violation Hour               int64\n",
              "Violation Month            float64\n",
              "dtype: object"
            ]
          },
          "metadata": {
            "tags": []
          },
          "execution_count": 40
        }
      ]
    },
    {
      "cell_type": "code",
      "metadata": {
        "colab": {
          "base_uri": "https://localhost:8080/"
        },
        "id": "3XDYNNUnFZOS",
        "outputId": "f6d52314-3aff-46f9-da14-92830d26c963"
      },
      "source": [
        "df2[\"Plate\"].nunique()"
      ],
      "execution_count": null,
      "outputs": [
        {
          "output_type": "execute_result",
          "data": {
            "text/plain": [
              "436718"
            ]
          },
          "metadata": {
            "tags": []
          },
          "execution_count": 85
        }
      ]
    },
    {
      "cell_type": "markdown",
      "metadata": {
        "id": "f5gKDuGJoEpa"
      },
      "source": [
        "Get unique cars by their license plates number."
      ]
    },
    {
      "cell_type": "code",
      "metadata": {
        "colab": {
          "base_uri": "https://localhost:8080/"
        },
        "id": "xsK8UvF6FxY-",
        "outputId": "e1f06844-73d0-4a7c-d9b6-c9d4a3ed7917"
      },
      "source": [
        "df2[\"Plate\"].value_counts()"
      ],
      "execution_count": null,
      "outputs": [
        {
          "output_type": "execute_result",
          "data": {
            "text/plain": [
              "47603MD    826\n",
              "39386ML    543\n",
              "47602MD    530\n",
              "17744MD    517\n",
              "17742MD    495\n",
              "          ... \n",
              "HGF4294      1\n",
              "EBB8693      1\n",
              "CROATIA      1\n",
              "13479EV      1\n",
              "21541MD      1\n",
              "Name: Plate, Length: 436718, dtype: int64"
            ]
          },
          "metadata": {
            "tags": []
          },
          "execution_count": 86
        }
      ]
    },
    {
      "cell_type": "markdown",
      "metadata": {
        "id": "-9oXiZGOoioa"
      },
      "source": [
        "Get range of max and min of violation per unique cars"
      ]
    },
    {
      "cell_type": "code",
      "metadata": {
        "colab": {
          "base_uri": "https://localhost:8080/"
        },
        "id": "4aQJK-nw_SCp",
        "outputId": "7ab555d0-1103-4ec0-849e-a8312409571f"
      },
      "source": [
        "df2[\"Plate\"].value_counts().mean()"
      ],
      "execution_count": null,
      "outputs": [
        {
          "output_type": "execute_result",
          "data": {
            "text/plain": [
              "2.4157190681400813"
            ]
          },
          "metadata": {
            "tags": []
          },
          "execution_count": 55
        }
      ]
    },
    {
      "cell_type": "markdown",
      "metadata": {
        "id": "Y7hpbGG8oqW3"
      },
      "source": [
        "To get average number of violation given to a car within 2020."
      ]
    },
    {
      "cell_type": "code",
      "metadata": {
        "id": "Hrml5ykV-I65"
      },
      "source": [
        "df2['Violation Hour'] = df2['Violation Time'].dt.hour\n",
        "df2['Violation Month'] = df2['Issue Date'].dt.month\n",
        "df2['County'].replace({\"BX\":\"Bronx\",\"K\":\"Brooklyn\",\"BK\":\"Brooklyn\",\"NY\":\"Manhattan\",\"MN\":\"Manhattan\",\"Q\":\"Queens\",\"QN\":\"Queens\",\"R\":\"Staten Island\", \"SI\":\"Staten Island\",\"ST\":\"Staten Island\"}, inplace = True)\n"
      ],
      "execution_count": null,
      "outputs": []
    },
    {
      "cell_type": "code",
      "metadata": {
        "id": "w069Q7gR-JaZ",
        "colab": {
          "base_uri": "https://localhost:8080/",
          "height": 406
        },
        "outputId": "959677ee-f2c7-4397-a6cf-be8ac05fb0f4"
      },
      "source": [
        "sns.displot(data=df2, x=\"Violation Hour\", col=\"Violation Month\", kde=True)"
      ],
      "execution_count": 95,
      "outputs": [
        {
          "output_type": "execute_result",
          "data": {
            "text/plain": [
              "<seaborn.axisgrid.FacetGrid at 0x7fcbde3eef50>"
            ]
          },
          "metadata": {
            "tags": []
          },
          "execution_count": 95
        },
        {
          "output_type": "display_data",
          "data": {
            "image/png": "[encoded data removed]",
            "text/plain": [
              "<Figure size 4320x360 with 12 Axes>"
            ]
          },
          "metadata": {
            "tags": [],
            "needs_background": "light"
          }
        }
      ]
    },
    {
      "cell_type": "markdown",
      "metadata": {
        "id": "orUe7AB5pFsd"
      },
      "source": [
        "##wanted to see if data varies across month and hour, but can generalized across the year."
      ]
    },
    {
      "cell_type": "code",
      "metadata": {
        "colab": {
          "base_uri": "https://localhost:8080/",
          "height": 547
        },
        "id": "tAyCSnjUAohh",
        "outputId": "b403e884-5e34-4103-eb5e-469c51809626"
      },
      "source": [
        "df2_allmonth =df2.reset_index().groupby(['Violation Month']).size().to_frame('count')\n",
        "df2_allmonth['percentage'] = round(df2_allmonth['count'].div(1054998).mul(100),2)\n",
        "print (df2_allmonth)\n",
        "df2_allmonth.plot.bar()"
      ],
      "execution_count": null,
      "outputs": [
        {
          "output_type": "stream",
          "text": [
            "                  count  percentage\n",
            "Violation Month                    \n",
            "1.0              130734       12.39\n",
            "2.0              119920       11.37\n",
            "3.0               98963        9.38\n",
            "4.0               25055        2.37\n",
            "5.0               26207        2.48\n",
            "6.0               34364        3.26\n",
            "7.0               65077        6.17\n",
            "8.0              102327        9.70\n",
            "9.0              117758       11.16\n",
            "10.0             119188       11.30\n",
            "11.0             107291       10.17\n",
            "12.0             108108       10.25\n"
          ],
          "name": "stdout"
        },
        {
          "output_type": "execute_result",
          "data": {
            "text/plain": [
              "<matplotlib.axes._subplots.AxesSubplot at 0x7fcbde0fc850>"
            ]
          },
          "metadata": {
            "tags": []
          },
          "execution_count": 66
        },
        {
          "output_type": "display_data",
          "data": {
            "image/png": "[encoded data removed]",
            "text/plain": [
              "<Figure size 432x288 with 1 Axes>"
            ]
          },
          "metadata": {
            "tags": [],
            "needs_background": "light"
          }
        }
      ]
    },
    {
      "cell_type": "code",
      "metadata": {
        "colab": {
          "base_uri": "https://localhost:8080/",
          "height": 741
        },
        "id": "zMqqoZPZAtRb",
        "outputId": "7ef1ea13-2f17-4c4d-f8d5-43a66c795b0b"
      },
      "source": [
        "df2_alltime =df2.reset_index().groupby(['Violation Hour']).size().to_frame('count')\n",
        "df2_alltime['percentage'] = round(df2_alltime['count'].div(1054998).mul(100),2)\n",
        "print (df2_alltime)\n",
        "df2_alltime.plot.bar()"
      ],
      "execution_count": null,
      "outputs": [
        {
          "output_type": "stream",
          "text": [
            "                 count  percentage\n",
            "Violation Hour                    \n",
            "0                 4964        0.47\n",
            "1                 5223        0.50\n",
            "2                 4253        0.40\n",
            "3                 2651        0.25\n",
            "4                 1702        0.16\n",
            "5                 7139        0.68\n",
            "6                27822        2.64\n",
            "7                62926        5.96\n",
            "8               102249        9.69\n",
            "9               104350        9.89\n",
            "10               94239        8.93\n",
            "11              100207        9.50\n",
            "12               99788        9.46\n",
            "13              121604       11.53\n",
            "14               98649        9.35\n",
            "15               66102        6.27\n",
            "16               51397        4.87\n",
            "17               37172        3.52\n",
            "18               18497        1.75\n",
            "19                9266        0.88\n",
            "20               12771        1.21\n",
            "21               12523        1.19\n",
            "22                5675        0.54\n",
            "23                3825        0.36\n"
          ],
          "name": "stdout"
        },
        {
          "output_type": "execute_result",
          "data": {
            "text/plain": [
              "<matplotlib.axes._subplots.AxesSubplot at 0x7fcbdded7d10>"
            ]
          },
          "metadata": {
            "tags": []
          },
          "execution_count": 73
        },
        {
          "output_type": "display_data",
          "data": {
            "image/png": "[encoded data removed]",
            "text/plain": [
              "<Figure size 432x288 with 1 Axes>"
            ]
          },
          "metadata": {
            "tags": [],
            "needs_background": "light"
          }
        }
      ]
    },
    {
      "cell_type": "code",
      "metadata": {
        "colab": {
          "base_uri": "https://localhost:8080/",
          "height": 450
        },
        "id": "ywPO0T0ACVQr",
        "outputId": "d8749770-5e5d-476f-cfb1-c2cff6d8e118"
      },
      "source": [
        "df2_vehicle =df2.reset_index().groupby(['License Type']).size().to_frame('count')\n",
        "df2_vehicle['percentage'] = round(df2_vehicle['count'].div(1054998).mul(100),2)\n",
        "display(df2_vehicle.sort_values(by='count', ascending=False))"
      ],
      "execution_count": null,
      "outputs": [
        {
          "output_type": "display_data",
          "data": {
            "text/html": [
              "<div>\n",
              "<style scoped>\n",
              "    .dataframe tbody tr th:only-of-type {\n",
              "        vertical-align: middle;\n",
              "    }\n",
              "\n",
              "    .dataframe tbody tr th {\n",
              "        vertical-align: top;\n",
              "    }\n",
              "\n",
              "    .dataframe thead th {\n",
              "        text-align: right;\n",
              "    }\n",
              "</style>\n",
              "<table border=\"1\" class=\"dataframe\">\n",
              "  <thead>\n",
              "    <tr style=\"text-align: right;\">\n",
              "      <th></th>\n",
              "      <th>count</th>\n",
              "      <th>percentage</th>\n",
              "    </tr>\n",
              "    <tr>\n",
              "      <th>License Type</th>\n",
              "      <th></th>\n",
              "      <th></th>\n",
              "    </tr>\n",
              "  </thead>\n",
              "  <tbody>\n",
              "    <tr>\n",
              "      <th>PAS</th>\n",
              "      <td>683031</td>\n",
              "      <td>64.74</td>\n",
              "    </tr>\n",
              "    <tr>\n",
              "      <th>COM</th>\n",
              "      <td>240661</td>\n",
              "      <td>22.81</td>\n",
              "    </tr>\n",
              "    <tr>\n",
              "      <th>OMT</th>\n",
              "      <td>54378</td>\n",
              "      <td>5.15</td>\n",
              "    </tr>\n",
              "    <tr>\n",
              "      <th>LMB</th>\n",
              "      <td>14792</td>\n",
              "      <td>1.40</td>\n",
              "    </tr>\n",
              "    <tr>\n",
              "      <th>SRF</th>\n",
              "      <td>14240</td>\n",
              "      <td>1.35</td>\n",
              "    </tr>\n",
              "    <tr>\n",
              "      <th>...</th>\n",
              "      <td>...</td>\n",
              "      <td>...</td>\n",
              "    </tr>\n",
              "    <tr>\n",
              "      <th>CBS</th>\n",
              "      <td>1</td>\n",
              "      <td>0.00</td>\n",
              "    </tr>\n",
              "    <tr>\n",
              "      <th>SNO</th>\n",
              "      <td>1</td>\n",
              "      <td>0.00</td>\n",
              "    </tr>\n",
              "    <tr>\n",
              "      <th>OMF</th>\n",
              "      <td>1</td>\n",
              "      <td>0.00</td>\n",
              "    </tr>\n",
              "    <tr>\n",
              "      <th>ARG</th>\n",
              "      <td>1</td>\n",
              "      <td>0.00</td>\n",
              "    </tr>\n",
              "    <tr>\n",
              "      <th>PPH</th>\n",
              "      <td>1</td>\n",
              "      <td>0.00</td>\n",
              "    </tr>\n",
              "  </tbody>\n",
              "</table>\n",
              "<p>72 rows × 2 columns</p>\n",
              "</div>"
            ],
            "text/plain": [
              "               count  percentage\n",
              "License Type                    \n",
              "PAS           683031       64.74\n",
              "COM           240661       22.81\n",
              "OMT            54378        5.15\n",
              "LMB            14792        1.40\n",
              "SRF            14240        1.35\n",
              "...              ...         ...\n",
              "CBS                1        0.00\n",
              "SNO                1        0.00\n",
              "OMF                1        0.00\n",
              "ARG                1        0.00\n",
              "PPH                1        0.00\n",
              "\n",
              "[72 rows x 2 columns]"
            ]
          },
          "metadata": {
            "tags": []
          }
        }
      ]
    },
    {
      "cell_type": "markdown",
      "metadata": {
        "id": "u6QgeBSVpRiE"
      },
      "source": [
        "##Wanted to see what vehicle type receives a lot of violation, saw that the top 5 were: Passenger, commericial, taxi, motorcycle, and city officials/health profession."
      ]
    },
    {
      "cell_type": "code",
      "metadata": {
        "colab": {
          "base_uri": "https://localhost:8080/",
          "height": 401
        },
        "id": "K_y3Tw6AN1jj",
        "outputId": "9fe99339-c20c-4707-e76b-60b90c81f15c"
      },
      "source": [
        "df2_allborough =df2.reset_index().groupby(['County']).size().to_frame('count')\n",
        "df2_allborough['percentage'] = round(df2_allborough['count'].div(1054998).mul(100),2)\n",
        "print (df2_allborough)\n",
        "df2_allborough['percentage'].plot.pie(autopct=\"%.1f%%\")"
      ],
      "execution_count": null,
      "outputs": [
        {
          "output_type": "stream",
          "text": [
            "                count  percentage\n",
            "County                           \n",
            "08                  1        0.00\n",
            "Bronx          125453       11.89\n",
            "Brooklyn       254887       24.16\n",
            "Manhattan      388735       36.85\n",
            "Queens         261919       24.83\n",
            "Staten Island   21221        2.01\n"
          ],
          "name": "stdout"
        },
        {
          "output_type": "execute_result",
          "data": {
            "text/plain": [
              "<matplotlib.axes._subplots.AxesSubplot at 0x7fcbdda8cd90>"
            ]
          },
          "metadata": {
            "tags": []
          },
          "execution_count": 91
        },
        {
          "output_type": "display_data",
          "data": {
            "image/png": "[encoded data removed]",
            "text/plain": [
              "<Figure size 432x288 with 1 Axes>"
            ]
          },
          "metadata": {
            "tags": []
          }
        }
      ]
    },
    {
      "cell_type": "code",
      "metadata": {
        "colab": {
          "base_uri": "https://localhost:8080/"
        },
        "id": "ODCsbp0wQngD",
        "outputId": "130e9837-f998-4a47-d4ff-c7b64536f047"
      },
      "source": [
        "df2_allstatus =df2.reset_index().groupby(['Violation Status']).size().to_frame('count').sort_values(['count'], ascending=False)\n",
        "df2_allstatus['percentage'] = round(df2_allstatus['count'].div(1054998).mul(100),2)\n",
        "print (df2_allstatus)"
      ],
      "execution_count": null,
      "outputs": [
        {
          "output_type": "stream",
          "text": [
            "                          count  percentage\n",
            "Violation Status                           \n",
            "HEARING HELD-GUILTY      651030       61.71\n",
            "HEARING HELD-NOT GUILTY  403964       38.29\n"
          ],
          "name": "stdout"
        }
      ]
    },
    {
      "cell_type": "markdown",
      "metadata": {
        "id": "r1Tr34g5qIZW"
      },
      "source": [
        "##Wanted to know if I did get a violation, could I fight it? But it seems the odds are not in our favor."
      ]
    },
    {
      "cell_type": "code",
      "metadata": {
        "id": "GBiCyc1uRT-G",
        "colab": {
          "base_uri": "https://localhost:8080/",
          "height": 390
        },
        "outputId": "2ffa7fc7-e910-4d90-a4f3-a6636da3b0d0"
      },
      "source": [
        "df2_alltype =df2.reset_index().groupby(['Violation']).size().to_frame('count').sort_values(['count'], ascending=False).head(10)\n",
        "df2_alltype['percentage'] = round(df2_alltype['count'].div(1054998).mul(100),2)\n",
        "display(df2_alltype)"
      ],
      "execution_count": null,
      "outputs": [
        {
          "output_type": "display_data",
          "data": {
            "text/html": [
              "<div>\n",
              "<style scoped>\n",
              "    .dataframe tbody tr th:only-of-type {\n",
              "        vertical-align: middle;\n",
              "    }\n",
              "\n",
              "    .dataframe tbody tr th {\n",
              "        vertical-align: top;\n",
              "    }\n",
              "\n",
              "    .dataframe thead th {\n",
              "        text-align: right;\n",
              "    }\n",
              "</style>\n",
              "<table border=\"1\" class=\"dataframe\">\n",
              "  <thead>\n",
              "    <tr style=\"text-align: right;\">\n",
              "      <th></th>\n",
              "      <th>count</th>\n",
              "      <th>percentage</th>\n",
              "    </tr>\n",
              "    <tr>\n",
              "      <th>Violation</th>\n",
              "      <th></th>\n",
              "      <th></th>\n",
              "    </tr>\n",
              "  </thead>\n",
              "  <tbody>\n",
              "    <tr>\n",
              "      <th>FAIL TO DSPLY MUNI METER RECPT</th>\n",
              "      <td>169662</td>\n",
              "      <td>16.08</td>\n",
              "    </tr>\n",
              "    <tr>\n",
              "      <th>NO PARKING-STREET CLEANING</th>\n",
              "      <td>98193</td>\n",
              "      <td>9.31</td>\n",
              "    </tr>\n",
              "    <tr>\n",
              "      <th>NO STANDING-DAY/TIME LIMITS</th>\n",
              "      <td>86695</td>\n",
              "      <td>8.22</td>\n",
              "    </tr>\n",
              "    <tr>\n",
              "      <th>PHTO SCHOOL ZN SPEED VIOLATION</th>\n",
              "      <td>83345</td>\n",
              "      <td>7.90</td>\n",
              "    </tr>\n",
              "    <tr>\n",
              "      <th>NO PARKING-DAY/TIME LIMITS</th>\n",
              "      <td>69585</td>\n",
              "      <td>6.60</td>\n",
              "    </tr>\n",
              "    <tr>\n",
              "      <th>DOUBLE PARKING</th>\n",
              "      <td>63654</td>\n",
              "      <td>6.03</td>\n",
              "    </tr>\n",
              "    <tr>\n",
              "      <th>FIRE HYDRANT</th>\n",
              "      <td>51579</td>\n",
              "      <td>4.89</td>\n",
              "    </tr>\n",
              "    <tr>\n",
              "      <th>INSP. STICKER-EXPIRED/MISSING</th>\n",
              "      <td>45769</td>\n",
              "      <td>4.34</td>\n",
              "    </tr>\n",
              "    <tr>\n",
              "      <th>FRONT OR BACK PLATE MISSING</th>\n",
              "      <td>44930</td>\n",
              "      <td>4.26</td>\n",
              "    </tr>\n",
              "    <tr>\n",
              "      <th>EXPIRED MUNI METER</th>\n",
              "      <td>41121</td>\n",
              "      <td>3.90</td>\n",
              "    </tr>\n",
              "  </tbody>\n",
              "</table>\n",
              "</div>"
            ],
            "text/plain": [
              "                                 count  percentage\n",
              "Violation                                         \n",
              "FAIL TO DSPLY MUNI METER RECPT  169662       16.08\n",
              "NO PARKING-STREET CLEANING       98193        9.31\n",
              "NO STANDING-DAY/TIME LIMITS      86695        8.22\n",
              "PHTO SCHOOL ZN SPEED VIOLATION   83345        7.90\n",
              "NO PARKING-DAY/TIME LIMITS       69585        6.60\n",
              "DOUBLE PARKING                   63654        6.03\n",
              "FIRE HYDRANT                     51579        4.89\n",
              "INSP. STICKER-EXPIRED/MISSING    45769        4.34\n",
              "FRONT OR BACK PLATE MISSING      44930        4.26\n",
              "EXPIRED MUNI METER               41121        3.90"
            ]
          },
          "metadata": {
            "tags": []
          }
        }
      ]
    },
    {
      "cell_type": "markdown",
      "metadata": {
        "id": "9aKv8E-7rEOv"
      },
      "source": [
        "###As this was an extension of my project to looking for trying to see if there was a quota in NYC for giving a violation. However, it was debunked immediately by looking at the month, expecting more violation would be given at end of fiscal year. What was interesting is after expanding data to all vehicle type and to all issuing agency, it didn't seem to change. I would have really like to be able to analyze across the years to see if it has changed. Overall conclusion, is to avoid driving outside of 6AM-5PM. In addition, best time to drive is between April to June, however, that could probably be affected by less individuals in NYC because of summer vacations."
      ]
    }
  ]
}